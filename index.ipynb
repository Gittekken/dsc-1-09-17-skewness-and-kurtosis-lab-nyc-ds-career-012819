{
 "cells": [
  {
   "cell_type": "markdown",
   "metadata": {},
   "source": [
    "# Skewness and Kurtosis - Lab"
   ]
  },
  {
   "cell_type": "markdown",
   "metadata": {},
   "source": [
    "## Introduction\n",
    "\n",
    "In this lab, we shall look at calculating skewness and kurtosis for a given dataset in python and SciPy. \n",
    "\n",
    "## Objectives\n",
    "You will be able to:\n",
    "* Measure, visualize, and interpret the kurtosis of a dataset\n",
    "* Measure, visualize, and interpret the skewness of a dataset"
   ]
  },
  {
   "cell_type": "markdown",
   "metadata": {},
   "source": [
    "## Bring in SciPy\n",
    "In the previous lesson, we have seen formulas for calculating skewness and kurtosis for a given dataset. Scipy comes packaged with these functions and  provides an easy way to calculate these two quantities, see [scipy.stats.kurtosis](https://docs.scipy.org/doc/scipy/reference/generated/scipy.stats.kurtosis.html#scipy.stats.kurtosis) and [scipy.stats.skew](scipy.stats.skew). Check out the official SciPy documentation for digging deeper into this. Right now we can use format: \n",
    "> **scipy.stats.kurtosis(x)**\n",
    "\n",
    "> **scipy.stats.skew(x)**\n",
    "\n",
    "Where x is a random continuous variable. \n",
    "\n",
    "We shall generate two synthetic datasets and measure/visualize and compare their skew and kurtosis in this lab. So lets get to it."
   ]
  },
  {
   "cell_type": "code",
   "execution_count": 5,
   "metadata": {},
   "outputs": [],
   "source": [
    "# Import required libraries\n",
    "import numpy as np\n",
    "import matplotlib.pyplot as plt\n",
    "\n",
    "from scipy.stats import kurtosis, skew"
   ]
  },
  {
   "cell_type": "markdown",
   "metadata": {},
   "source": [
    "## Take 1\n",
    "Perform following steps\n",
    "* Generate a random normal variable `x_random` in numpy with 10,000 values. Set the mean value to 0 and standard deviation to 2\n",
    "* Plot a histogram for data, set bins to `auto` (default). \n",
    "* Calculate the skewness and kurtosis for this data distribution using above functions. \n",
    "* Record your observations about calculated values and shape of the data. "
   ]
  },
  {
   "cell_type": "code",
   "execution_count": 13,
   "metadata": {},
   "outputs": [
    {
     "name": "stderr",
     "output_type": "stream",
     "text": [
      "/opt/conda/envs/learn-env/lib/python3.6/site-packages/matplotlib/axes/_axes.py:6521: MatplotlibDeprecationWarning: \n",
      "The 'normed' kwarg was deprecated in Matplotlib 2.1 and will be removed in 3.1. Use 'density' instead.\n",
      "  alternative=\"'density'\", removal=\"3.1\")\n"
     ]
    },
    {
     "data": {
      "text/plain": [
       "(array([0.0006728 , 0.        , 0.        , 0.0006728 , 0.        ,\n",
       "        0.00134561, 0.00201841, 0.00269122, 0.0006728 , 0.00201841,\n",
       "        0.00134561, 0.00269122, 0.00470963, 0.00740085, 0.00538244,\n",
       "        0.00941926, 0.01211048, 0.01278329, 0.01547451, 0.01614731,\n",
       "        0.01682012, 0.02623938, 0.02758499, 0.03902267, 0.03700425,\n",
       "        0.03633145, 0.03969547, 0.058534  , 0.05584278, 0.05516998,\n",
       "        0.08073655, 0.08477338, 0.09486545, 0.1029391 , 0.10361191,\n",
       "        0.12177763, 0.11908642, 0.12379605, 0.13725214, 0.14330738,\n",
       "        0.15810908, 0.18502127, 0.18636688, 0.16954676, 0.17358359,\n",
       "        0.2045326 , 0.19713175, 0.19376773, 0.1904037 , 0.22471674,\n",
       "        0.21260626, 0.19780455, 0.20184138, 0.18905809, 0.17156517,\n",
       "        0.18636688, 0.16349152, 0.16483713, 0.15272665, 0.14801701,\n",
       "        0.13725214, 0.11841361, 0.12850568, 0.11235837, 0.10764874,\n",
       "        0.09755667, 0.08948301, 0.0874646 , 0.07871814, 0.07468131,\n",
       "        0.0578612 , 0.05449717, 0.05046035, 0.03902267, 0.03700425,\n",
       "        0.02556658, 0.02152975, 0.02018414, 0.02152975, 0.01278329,\n",
       "        0.0141289 , 0.01345609, 0.01143768, 0.00874646, 0.00470963,\n",
       "        0.00672805, 0.00336402, 0.00269122, 0.00538244, 0.00336402,\n",
       "        0.00201841, 0.        , 0.0006728 , 0.        , 0.00134561,\n",
       "        0.00134561, 0.0006728 , 0.        , 0.0006728 , 0.00134561]),\n",
       " array([-7.32763293, -7.17900137, -7.0303698 , -6.88173824, -6.73310668,\n",
       "        -6.58447512, -6.43584355, -6.28721199, -6.13858043, -5.98994887,\n",
       "        -5.8413173 , -5.69268574, -5.54405418, -5.39542261, -5.24679105,\n",
       "        -5.09815949, -4.94952793, -4.80089636, -4.6522648 , -4.50363324,\n",
       "        -4.35500167, -4.20637011, -4.05773855, -3.90910699, -3.76047542,\n",
       "        -3.61184386, -3.4632123 , -3.31458073, -3.16594917, -3.01731761,\n",
       "        -2.86868605, -2.72005448, -2.57142292, -2.42279136, -2.27415979,\n",
       "        -2.12552823, -1.97689667, -1.82826511, -1.67963354, -1.53100198,\n",
       "        -1.38237042, -1.23373886, -1.08510729, -0.93647573, -0.78784417,\n",
       "        -0.6392126 , -0.49058104, -0.34194948, -0.19331792, -0.04468635,\n",
       "         0.10394521,  0.25257677,  0.40120834,  0.5498399 ,  0.69847146,\n",
       "         0.84710302,  0.99573459,  1.14436615,  1.29299771,  1.44162928,\n",
       "         1.59026084,  1.7388924 ,  1.88752396,  2.03615553,  2.18478709,\n",
       "         2.33341865,  2.48205021,  2.63068178,  2.77931334,  2.9279449 ,\n",
       "         3.07657647,  3.22520803,  3.37383959,  3.52247115,  3.67110272,\n",
       "         3.81973428,  3.96836584,  4.11699741,  4.26562897,  4.41426053,\n",
       "         4.56289209,  4.71152366,  4.86015522,  5.00878678,  5.15741835,\n",
       "         5.30604991,  5.45468147,  5.60331303,  5.7519446 ,  5.90057616,\n",
       "         6.04920772,  6.19783929,  6.34647085,  6.49510241,  6.64373397,\n",
       "         6.79236554,  6.9409971 ,  7.08962866,  7.23826022,  7.38689179,\n",
       "         7.53552335]),\n",
       " <a list of 100 Patch objects>)"
      ]
     },
     "execution_count": 13,
     "metadata": {},
     "output_type": "execute_result"
    },
    {
     "data": {
      "image/png": "[encoded data removed]",
      "text/plain": [
       "<Figure size 432x288 with 1 Axes>"
      ]
     },
     "metadata": {
      "needs_background": "light"
     },
     "output_type": "display_data"
    }
   ],
   "source": [
    "mu, sigma = 0, 2\n",
    "#N = \"auto\"\n",
    "x_random = np.random.normal(mu, sigma, 10000)\n",
    "\n",
    "# Skewness = -0.0025781248189666343\n",
    "# kurtosis = 0.03976806960642154\n",
    "x_random\n",
    "\n",
    "# plt.hist(x_random, 100, normed = True)"
   ]
  },
  {
   "cell_type": "code",
   "execution_count": null,
   "metadata": {
    "collapsed": true
   },
   "outputs": [],
   "source": [
    "# Your observations here \n",
    "\n",
    "\n",
    "\n",
    "\n",
    "\n",
    "\n",
    "#"
   ]
  },
  {
   "cell_type": "markdown",
   "metadata": {},
   "source": [
    "## Take 2\n",
    "\n",
    "Let's generate another distribution "
   ]
  },
  {
   "cell_type": "code",
   "execution_count": 9,
   "metadata": {},
   "outputs": [],
   "source": [
    "x = np.linspace( -5, 5, 10000 )\n",
    "y = 1./(np.sqrt(2.*np.pi)) * np.exp( -.5*(x)**2  )  # normal distribution"
   ]
  },
  {
   "cell_type": "markdown",
   "metadata": {},
   "source": [
    "Just like above, perform following steps\n",
    "\n",
    "* Plot a histogram for data (y), set bins to auto (default).\n",
    "* Calculate the skewness and kurtosis for this data distribution using above functions.\n",
    "* Record your observations about calculated values and shape of the data."
   ]
  },
  {
   "cell_type": "code",
   "execution_count": 11,
   "metadata": {},
   "outputs": [
    {
     "name": "stdout",
     "output_type": "stream",
     "text": [
      "Skewness = 1.109511549276228\n",
      "kurtosis = -0.31039027765889804\n"
     ]
    },
    {
     "data": {
      "image/png": "[encoded data removed]",
      "text/plain": [
       "<matplotlib.figure.Figure at 0x1a13d45e10>"
      ]
     },
     "metadata": {},
     "output_type": "display_data"
    }
   ],
   "source": [
    "\n",
    "\n",
    "# Skewness = 1.109511549276228\n",
    "# kurtosis = -0.31039027765889804"
   ]
  },
  {
   "cell_type": "code",
   "execution_count": null,
   "metadata": {},
   "outputs": [],
   "source": [
    "# Your observations here \n",
    "\n",
    "\n",
    "\n",
    "\n",
    "\n",
    "\n",
    "\n",
    "#"
   ]
  },
  {
   "cell_type": "markdown",
   "metadata": {},
   "source": [
    "## Level up (Optional)"
   ]
  },
  {
   "cell_type": "markdown",
   "metadata": {},
   "source": [
    "Use the formulas given in th previous lesson to calculate skewness and kurtosis with numpy only. Compare your results to the ones shown using Scipy. Do you see any differences in the results? Try at least one other method to calculate skewness and compare the results to previous ones. "
   ]
  },
  {
   "cell_type": "markdown",
   "metadata": {},
   "source": [
    "## Summary\n",
    "\n",
    "In this lesson we learned how to calculate, visualize and analyze the skewness and kurtosis for any given distribution. We worked with synthetic datasets at this stage to get the concepts cleared up. Later we shall try these techniques on real datasets to see if they are fit for analysis (or not). "
   ]
  }
 ],
 "metadata": {
  "kernelspec": {
   "display_name": "Python 3",
   "language": "python",
   "name": "python3"
  },
  "language_info": {
   "codemirror_mode": {
    "name": "ipython",
    "version": 3
   },
   "file_extension": ".py",
   "mimetype": "text/x-python",
   "name": "python",
   "nbconvert_exporter": "python",
   "pygments_lexer": "ipython3",
   "version": "3.6.6"
  }
 },
 "nbformat": 4,
 "nbformat_minor": 2
}
